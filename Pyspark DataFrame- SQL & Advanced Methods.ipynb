{
 "cells": [
  {
   "cell_type": "code",
   "execution_count": 1,
   "id": "eabcf938",
   "metadata": {},
   "outputs": [
    {
     "data": {
      "text/html": [
       "\n",
       "        <div>\n",
       "            <p><b>SparkContext</b></p>\n",
       "\n",
       "            <p><a href=\"http://10.0.2.15:4041\">Spark UI</a></p>\n",
       "\n",
       "            <dl>\n",
       "              <dt>Version</dt>\n",
       "                <dd><code>v2.4.8</code></dd>\n",
       "              <dt>Master</dt>\n",
       "                <dd><code>local[*]</code></dd>\n",
       "              <dt>AppName</dt>\n",
       "                <dd><code>PySparkShell</code></dd>\n",
       "            </dl>\n",
       "        </div>\n",
       "        "
      ],
      "text/plain": [
       "<SparkContext master=local[*] appName=PySparkShell>"
      ]
     },
     "execution_count": 1,
     "metadata": {},
     "output_type": "execute_result"
    }
   ],
   "source": [
    "sc"
   ]
  },
  {
   "cell_type": "code",
   "execution_count": 3,
   "id": "300a42c4",
   "metadata": {},
   "outputs": [],
   "source": [
    "people_df = spark.read.json('file:///home/hadoop/Downloads/People.json')"
   ]
  },
  {
   "cell_type": "code",
   "execution_count": 4,
   "id": "c978ca28",
   "metadata": {},
   "outputs": [
    {
     "name": "stdout",
     "output_type": "stream",
     "text": [
      "root\n",
      " |-- city: string (nullable = true)\n",
      " |-- country: string (nullable = true)\n",
      " |-- first_name: string (nullable = true)\n",
      " |-- gender: string (nullable = true)\n",
      " |-- id: long (nullable = true)\n",
      " |-- last_name: string (nullable = true)\n",
      " |-- salary: long (nullable = true)\n",
      "\n"
     ]
    }
   ],
   "source": [
    "people_df.printSchema()"
   ]
  },
  {
   "cell_type": "code",
   "execution_count": 5,
   "id": "dda987a4",
   "metadata": {
    "scrolled": false
   },
   "outputs": [
    {
     "name": "stdout",
     "output_type": "stream",
     "text": [
      "+------------------+------------+----------+------+---+---------+------+\n",
      "|              city|     country|first_name|gender| id|last_name|salary|\n",
      "+------------------+------------+----------+------+---+---------+------+\n",
      "|         Mulyosari|   Indonesia|     Valma|Female|  1|     Sans|983107|\n",
      "|           Niihama|       Japan|     Paolo|  Male|  2|   Kiddie|649173|\n",
      "|         Dū Qal‘ah| Afghanistan|    Miltie|  Male|  3| De Zuani|352898|\n",
      "|            Iberia|        Peru|    Jarrid|  Male|  4| Dalziell|170398|\n",
      "|          La Ronge|      Canada| Reinaldos|  Male|  5|   Keeffe|440989|\n",
      "|      Kuala Lumpur|    Malaysia|        Eb|  Male|  6|Schwanden|274126|\n",
      "|         Al Qurayn|Saudi Arabia|    Alleyn|  Male|  7|   Paddon|681914|\n",
      "|           Jixiang|       China|   Baryram|  Male|  8|     Yell|250748|\n",
      "|Thị Trấn Phong Thổ|     Vietnam|     Cammy|Female|  9|     Axel|221750|\n",
      "|        Kotatengah|   Indonesia|       Erl|  Male| 10|  Caldera|680801|\n",
      "|        Roldanillo|    Colombia|    Miguel|  Male| 11|   Moules|819771|\n",
      "|            Malārd|        Iran| Mireielle|Female| 12|   Hurley|486029|\n",
      "|     Fada N'gourma|Burkina Faso|    Feodor|  Male| 13| Grummitt|358045|\n",
      "|           Ciangir|   Indonesia|     Diana|Female| 14|  Lawfull|397683|\n",
      "|         El Cantón|   Venezuela|      Evie|Female| 15|   Kaysor|436202|\n",
      "|          La Unión|    Colombia|    Janean|Female| 16|    Sayse|892405|\n",
      "|            Xinhua|       China|     Colan|  Male| 17|   Stoppe|218434|\n",
      "|     Крива Паланка|   Macedonia|      Erik|  Male| 18| Stitcher|776023|\n",
      "|          Qīr Moāv|      Jordan|   Sargent|  Male| 19|   Cleall|819269|\n",
      "|      Bogandinskiy|      Russia|   Tamqrah|Female| 20|Millichip|313540|\n",
      "+------------------+------------+----------+------+---+---------+------+\n",
      "only showing top 20 rows\n",
      "\n"
     ]
    }
   ],
   "source": [
    "people_df.show()"
   ]
  },
  {
   "cell_type": "markdown",
   "id": "732a7557",
   "metadata": {},
   "source": [
    "#### 1. Create a User Definded Schema for field of DataFrame."
   ]
  },
  {
   "cell_type": "code",
   "execution_count": 11,
   "id": "546ec5b5",
   "metadata": {},
   "outputs": [],
   "source": [
    "from pyspark.sql.functions import *\n",
    "from pyspark.sql.types import IntegerType,StringType,StructType,StructField,LongType"
   ]
  },
  {
   "cell_type": "code",
   "execution_count": 13,
   "id": "349f7553",
   "metadata": {},
   "outputs": [],
   "source": [
    "schema = StructType([\n",
    "    StructField(\"id\", IntegerType(), True),\n",
    "    StructField(\"first_name\", StringType(), True),\n",
    "    StructField(\"last_name\", StringType(), True),\n",
    "    StructField(\"gender\", StringType(), True),\n",
    "    StructField(\"salary\", LongType(), True),\n",
    "    StructField(\"city\", StringType(), True),\n",
    "    StructField(\"country\", StringType(), True)\n",
    "])"
   ]
  },
  {
   "cell_type": "code",
   "execution_count": 15,
   "id": "32c8aaf1",
   "metadata": {},
   "outputs": [],
   "source": [
    "people_df = spark.read.schema(schema).json('file:///home/hadoop/Downloads/People.json')"
   ]
  },
  {
   "cell_type": "code",
   "execution_count": 19,
   "id": "9416fef0",
   "metadata": {},
   "outputs": [],
   "source": [
    "# here \"multiline = True\" is required as the data given is in a multiline format,\n",
    "# which indeed causes the normal read to create issue\n",
    "bank_df = spark.read.json('file:///home/hadoop/Downloads/bank_edited.json', multiLine=True)"
   ]
  },
  {
   "cell_type": "code",
   "execution_count": 21,
   "id": "c34c9bf6",
   "metadata": {},
   "outputs": [
    {
     "name": "stdout",
     "output_type": "stream",
     "text": [
      "+---+-------+--------+-------+---+-------+--------+---------+-------+----------+----+-------+-----+-----+--------+--------+---+\n",
      "|age|balance|campaign|contact|day|default|duration|education|housing|       job|loan|marital|month|pdays|poutcome|previous|  y|\n",
      "+---+-------+--------+-------+---+-------+--------+---------+-------+----------+----+-------+-----+-----+--------+--------+---+\n",
      "| 58|   2143|       1|unknown|  5|     no|     261| tertiary|    yes|management|  no|married|  may|   -1| unknown|       0| no|\n",
      "| 44|     29|       1|unknown|  5|     no|     151|secondary|    yes|technician|  no| single|  may|   -1| unknown|       0| no|\n",
      "+---+-------+--------+-------+---+-------+--------+---------+-------+----------+----+-------+-----+-----+--------+--------+---+\n",
      "only showing top 2 rows\n",
      "\n"
     ]
    }
   ],
   "source": [
    "bank_df.show(2)"
   ]
  },
  {
   "cell_type": "code",
   "execution_count": 22,
   "id": "1f5bb6f2",
   "metadata": {},
   "outputs": [
    {
     "name": "stdout",
     "output_type": "stream",
     "text": [
      "root\n",
      " |-- age: long (nullable = true)\n",
      " |-- balance: long (nullable = true)\n",
      " |-- campaign: long (nullable = true)\n",
      " |-- contact: string (nullable = true)\n",
      " |-- day: long (nullable = true)\n",
      " |-- default: string (nullable = true)\n",
      " |-- duration: long (nullable = true)\n",
      " |-- education: string (nullable = true)\n",
      " |-- housing: string (nullable = true)\n",
      " |-- job: string (nullable = true)\n",
      " |-- loan: string (nullable = true)\n",
      " |-- marital: string (nullable = true)\n",
      " |-- month: string (nullable = true)\n",
      " |-- pdays: long (nullable = true)\n",
      " |-- poutcome: string (nullable = true)\n",
      " |-- previous: long (nullable = true)\n",
      " |-- y: string (nullable = true)\n",
      "\n"
     ]
    }
   ],
   "source": [
    "bank_df.printSchema()"
   ]
  },
  {
   "cell_type": "code",
   "execution_count": 23,
   "id": "4043dc1d",
   "metadata": {},
   "outputs": [],
   "source": []
  },
  {
   "cell_type": "code",
   "execution_count": null,
   "id": "4702f8f0",
   "metadata": {},
   "outputs": [],
   "source": [
    "\n",
    "from pyspark.sql.types import IntegerType,StructField,StringType,StructField,LongType,DoubleType\n",
    "\n",
    "schema = StructType([\n",
    "    StructField('age',IntegerType,True),\n",
    "    StructField('balance',DoubleType,True),\n",
    "    StructField('campaign',IntegerType,True),\n",
    "    StructField('contact',StringType,True),\n",
    "    StructField('default',StringType,True),\n",
    "    StructField('duration',IntegerType,True),\n",
    "    StructField('education',StringType,True),\n",
    "    StructField('housing',StringType,True),\n",
    "    StructField('job',StringType,True),\n",
    "    StructField('loan',StringType,True),\n",
    "    StructField('marital',StringType,True),\n",
    "    StructField('month',IntegerType,True),\n",
    "    StructField('contact',StringType,True),\n",
    "    StructField('pdays',StringType,True),\n",
    "    StructField('poutcome',IntegerType,True),\n",
    "    StructField('previous',IntegerType,True),\n",
    "    StructField('y',IntegerType,True)\n",
    "])"
   ]
  },
  {
   "cell_type": "code",
   "execution_count": 24,
   "id": "89a50bc0",
   "metadata": {},
   "outputs": [
    {
     "data": {
      "text/plain": [
       "DataFrame[age: int, balance: bigint, campaign: bigint, contact: string, day: bigint, default: string, duration: bigint, education: string, housing: string, job: string, loan: string, marital: string, month: string, pdays: bigint, poutcome: string, previous: bigint, y: string]"
      ]
     },
     "execution_count": 24,
     "metadata": {},
     "output_type": "execute_result"
    }
   ],
   "source": [
    "# Any column operations we need to perform we do it with withColumn.\n",
    "bank_df.withColumn('age',col('age').cast('int'))"
   ]
  },
  {
   "cell_type": "markdown",
   "id": "e7c6c29c",
   "metadata": {},
   "source": [
    "#### 3. Creating new column from two strings."
   ]
  },
  {
   "cell_type": "code",
   "execution_count": 31,
   "id": "ea3c40fe",
   "metadata": {},
   "outputs": [
    {
     "name": "stdout",
     "output_type": "stream",
     "text": [
      "+---+----------+---------+------+------+---------+---------+------------+\n",
      "| id|first_name|last_name|gender|salary|     city|  country|   Full_Name|\n",
      "+---+----------+---------+------+------+---------+---------+------------+\n",
      "|  1|     Valma|     Sans|Female|983107|Mulyosari|Indonesia|  Valma Sans|\n",
      "|  2|     Paolo|   Kiddie|  Male|649173|  Niihama|    Japan|Paolo Kiddie|\n",
      "+---+----------+---------+------+------+---------+---------+------------+\n",
      "only showing top 2 rows\n",
      "\n"
     ]
    }
   ],
   "source": [
    "from pyspark.sql.functions import concat\n",
    "\n",
    "people_df.withColumn('Full_Name',concat(col('first_name'),lit(' '),col('last_name'))).show(2)"
   ]
  },
  {
   "cell_type": "markdown",
   "id": "60281d46",
   "metadata": {},
   "source": [
    "#### 4. Renaming an existing column"
   ]
  },
  {
   "cell_type": "code",
   "execution_count": 33,
   "id": "966da16c",
   "metadata": {},
   "outputs": [],
   "source": [
    "people_df = people_df.withColumnRenamed('salary','income')"
   ]
  },
  {
   "cell_type": "code",
   "execution_count": 34,
   "id": "d77630f9",
   "metadata": {},
   "outputs": [
    {
     "name": "stdout",
     "output_type": "stream",
     "text": [
      "+---+----------+---------+------+------+------------------+------------+\n",
      "| id|first_name|last_name|gender|income|              city|     country|\n",
      "+---+----------+---------+------+------+------------------+------------+\n",
      "|  1|     Valma|     Sans|Female|983107|         Mulyosari|   Indonesia|\n",
      "|  2|     Paolo|   Kiddie|  Male|649173|           Niihama|       Japan|\n",
      "|  3|    Miltie| De Zuani|  Male|352898|         Dū Qal‘ah| Afghanistan|\n",
      "|  4|    Jarrid| Dalziell|  Male|170398|            Iberia|        Peru|\n",
      "|  5| Reinaldos|   Keeffe|  Male|440989|          La Ronge|      Canada|\n",
      "|  6|        Eb|Schwanden|  Male|274126|      Kuala Lumpur|    Malaysia|\n",
      "|  7|    Alleyn|   Paddon|  Male|681914|         Al Qurayn|Saudi Arabia|\n",
      "|  8|   Baryram|     Yell|  Male|250748|           Jixiang|       China|\n",
      "|  9|     Cammy|     Axel|Female|221750|Thị Trấn Phong Thổ|     Vietnam|\n",
      "| 10|       Erl|  Caldera|  Male|680801|        Kotatengah|   Indonesia|\n",
      "| 11|    Miguel|   Moules|  Male|819771|        Roldanillo|    Colombia|\n",
      "| 12| Mireielle|   Hurley|Female|486029|            Malārd|        Iran|\n",
      "| 13|    Feodor| Grummitt|  Male|358045|     Fada N'gourma|Burkina Faso|\n",
      "| 14|     Diana|  Lawfull|Female|397683|           Ciangir|   Indonesia|\n",
      "| 15|      Evie|   Kaysor|Female|436202|         El Cantón|   Venezuela|\n",
      "| 16|    Janean|    Sayse|Female|892405|          La Unión|    Colombia|\n",
      "| 17|     Colan|   Stoppe|  Male|218434|            Xinhua|       China|\n",
      "| 18|      Erik| Stitcher|  Male|776023|     Крива Паланка|   Macedonia|\n",
      "| 19|   Sargent|   Cleall|  Male|819269|          Qīr Moāv|      Jordan|\n",
      "| 20|   Tamqrah|Millichip|Female|313540|      Bogandinskiy|      Russia|\n",
      "+---+----------+---------+------+------+------------------+------------+\n",
      "only showing top 20 rows\n",
      "\n"
     ]
    }
   ],
   "source": [
    "people_df.show()"
   ]
  },
  {
   "cell_type": "markdown",
   "id": "ae506daa",
   "metadata": {},
   "source": [
    "#### 5. Limit()"
   ]
  },
  {
   "cell_type": "code",
   "execution_count": 35,
   "id": "c9b437e1",
   "metadata": {},
   "outputs": [
    {
     "name": "stdout",
     "output_type": "stream",
     "text": [
      "+---+----------+---------+------+------+------------------+------------+\n",
      "| id|first_name|last_name|gender|income|              city|     country|\n",
      "+---+----------+---------+------+------+------------------+------------+\n",
      "|  1|     Valma|     Sans|Female|983107|         Mulyosari|   Indonesia|\n",
      "|  2|     Paolo|   Kiddie|  Male|649173|           Niihama|       Japan|\n",
      "|  3|    Miltie| De Zuani|  Male|352898|         Dū Qal‘ah| Afghanistan|\n",
      "|  4|    Jarrid| Dalziell|  Male|170398|            Iberia|        Peru|\n",
      "|  5| Reinaldos|   Keeffe|  Male|440989|          La Ronge|      Canada|\n",
      "|  6|        Eb|Schwanden|  Male|274126|      Kuala Lumpur|    Malaysia|\n",
      "|  7|    Alleyn|   Paddon|  Male|681914|         Al Qurayn|Saudi Arabia|\n",
      "|  8|   Baryram|     Yell|  Male|250748|           Jixiang|       China|\n",
      "|  9|     Cammy|     Axel|Female|221750|Thị Trấn Phong Thổ|     Vietnam|\n",
      "| 10|       Erl|  Caldera|  Male|680801|        Kotatengah|   Indonesia|\n",
      "+---+----------+---------+------+------+------------------+------------+\n",
      "\n"
     ]
    }
   ],
   "source": [
    "people_df.limit(10).show()"
   ]
  },
  {
   "cell_type": "markdown",
   "id": "5f6c8c33",
   "metadata": {},
   "source": [
    "#### OrderBy() \n",
    "        * Arrange Data in ascending & descending order."
   ]
  },
  {
   "cell_type": "code",
   "execution_count": 41,
   "id": "0081d21d",
   "metadata": {},
   "outputs": [
    {
     "name": "stdout",
     "output_type": "stream",
     "text": [
      "+---+----------+---------+------+------+-------------------+--------------+\n",
      "| id|first_name|last_name|gender|income|               city|       country|\n",
      "+---+----------+---------+------+------+-------------------+--------------+\n",
      "|651| Frederigo|    Ogers|  Male|999360|             Pentre|United Kingdom|\n",
      "|652|  Hurleigh|     Plom|  Male|998944|Grodzisk Mazowiecki|        Poland|\n",
      "+---+----------+---------+------+------+-------------------+--------------+\n",
      "only showing top 2 rows\n",
      "\n"
     ]
    }
   ],
   "source": [
    "people_df.orderBy(['income'],ascending = False).show(2)"
   ]
  },
  {
   "cell_type": "code",
   "execution_count": 42,
   "id": "3dd1caac",
   "metadata": {},
   "outputs": [
    {
     "name": "stdout",
     "output_type": "stream",
     "text": [
      "+---+----------+---------+------+------+------------+---------+\n",
      "| id|first_name|last_name|gender|income|        city|  country|\n",
      "+---+----------+---------+------+------+------------+---------+\n",
      "| 93|      Cory|    Prigg|  Male| 12876|     Gondang|Indonesia|\n",
      "|590|      Flem| Tumielli|  Male| 13347| Debre Zeyit| Ethiopia|\n",
      "|192|       Odo|  Conyers|  Male| 15555|  Raffingora| Zimbabwe|\n",
      "|407|  Barbabas|Ballingal|  Male| 18598|Beringinjaya|Indonesia|\n",
      "| 24|   Avigdor|  Goddman|  Male| 20216|       Gujun|    China|\n",
      "+---+----------+---------+------+------+------------+---------+\n",
      "only showing top 5 rows\n",
      "\n"
     ]
    }
   ],
   "source": [
    "people_df.orderBy(['gender','income'], ascending = [False,True]).show(5)"
   ]
  },
  {
   "cell_type": "markdown",
   "id": "37ebfef5",
   "metadata": {},
   "source": [
    "#### Materialized View\n",
    "        * createOrReplaceTempView() -> creates a temporary dataframe\n",
    "        * the original data is not changed"
   ]
  },
  {
   "cell_type": "code",
   "execution_count": 43,
   "id": "7b2135c4",
   "metadata": {},
   "outputs": [],
   "source": [
    "bank_df.createOrReplaceTempView('bankData')"
   ]
  },
  {
   "cell_type": "code",
   "execution_count": 45,
   "id": "0c59ae65",
   "metadata": {},
   "outputs": [
    {
     "name": "stdout",
     "output_type": "stream",
     "text": [
      "+---+-------+--------+-------+---+-------+--------+---------+-------+------------+----+-------+-----+-----+--------+--------+---+\n",
      "|age|balance|campaign|contact|day|default|duration|education|housing|         job|loan|marital|month|pdays|poutcome|previous|  y|\n",
      "+---+-------+--------+-------+---+-------+--------+---------+-------+------------+----+-------+-----+-----+--------+--------+---+\n",
      "| 58|   2143|       1|unknown|  5|     no|     261| tertiary|    yes|  management|  no|married|  may|   -1| unknown|       0| no|\n",
      "| 44|     29|       1|unknown|  5|     no|     151|secondary|    yes|  technician|  no| single|  may|   -1| unknown|       0| no|\n",
      "| 33|      2|       1|unknown|  5|     no|      76|secondary|    yes|entrepreneur| yes|married|  may|   -1| unknown|       0| no|\n",
      "| 47|   1506|       1|unknown|  5|     no|      92|  unknown|    yes| blue-collar|  no|married|  may|   -1| unknown|       0| no|\n",
      "+---+-------+--------+-------+---+-------+--------+---------+-------+------------+----+-------+-----+-----+--------+--------+---+\n",
      "only showing top 4 rows\n",
      "\n"
     ]
    }
   ],
   "source": [
    "spark.sql('SELECT * FROM bankData').show(4)"
   ]
  },
  {
   "cell_type": "code",
   "execution_count": 61,
   "id": "eb7e4586",
   "metadata": {},
   "outputs": [
    {
     "data": {
      "text/plain": [
       "Row(age=60, balance=100, campaign=1, contact='unknown', day=5, default='no', duration=528, education='tertiary', housing='no', job='retired', loan='no', marital='married', month='may', pdays=-1, poutcome='unknown', previous=0, y='no')"
      ]
     },
     "execution_count": 61,
     "metadata": {},
     "output_type": "execute_result"
    }
   ],
   "source": [
    "spark.sql(\"SELECT * FROM bankData WHERE age > 58 and education = 'tertiary' LIMIT 1\").collect()[0]"
   ]
  },
  {
   "cell_type": "markdown",
   "id": "e698c198",
   "metadata": {},
   "source": [
    "* Show top 10 youngest age group with maximum balance\n",
    "* Show worst 5 job type having minimum salary"
   ]
  },
  {
   "cell_type": "code",
   "execution_count": 83,
   "id": "64cb9113",
   "metadata": {},
   "outputs": [
    {
     "name": "stdout",
     "output_type": "stream",
     "text": [
      "+---+------------+\n",
      "|age|max(balance)|\n",
      "+---+------------+\n",
      "| 18|        1944|\n",
      "| 19|        5368|\n",
      "| 20|        8860|\n",
      "| 21|        8278|\n",
      "| 22|       10971|\n",
      "| 23|       19690|\n",
      "| 24|       23878|\n",
      "| 25|       16874|\n",
      "| 26|       24299|\n",
      "| 27|       24025|\n",
      "+---+------------+\n",
      "\n"
     ]
    }
   ],
   "source": [
    "spark.sql(\"SELECT age, MAX(balance) FROM bankData GROUP BY age ORDER BY age ASC LIMIT 10\").show()"
   ]
  },
  {
   "cell_type": "code",
   "execution_count": 89,
   "id": "cf7578e1",
   "metadata": {},
   "outputs": [
    {
     "name": "stdout",
     "output_type": "stream",
     "text": [
      "+-------------+-------+\n",
      "|          job|min_bal|\n",
      "+-------------+-------+\n",
      "|  blue-collar|  -8019|\n",
      "|   management|  -6847|\n",
      "|self-employed|  -3313|\n",
      "|   technician|  -2827|\n",
      "|     services|  -2122|\n",
      "+-------------+-------+\n",
      "\n"
     ]
    }
   ],
   "source": [
    "spark.sql(\"SELECT job, MIN(balance) as min_bal FROM bankData GROUP BY job ORDER BY min_bal ASC LIMIT 5\").show()"
   ]
  },
  {
   "cell_type": "code",
   "execution_count": null,
   "id": "8a2c54bd",
   "metadata": {},
   "outputs": [],
   "source": []
  }
 ],
 "metadata": {
  "kernelspec": {
   "display_name": "Python 3",
   "language": "python",
   "name": "python3"
  },
  "language_info": {
   "codemirror_mode": {
    "name": "ipython",
    "version": 3
   },
   "file_extension": ".py",
   "mimetype": "text/x-python",
   "name": "python",
   "nbconvert_exporter": "python",
   "pygments_lexer": "ipython3",
   "version": "3.6.9"
  }
 },
 "nbformat": 4,
 "nbformat_minor": 5
}
