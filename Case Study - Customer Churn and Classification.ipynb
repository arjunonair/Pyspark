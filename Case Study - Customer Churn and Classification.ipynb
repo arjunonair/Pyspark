{
 "cells": [
  {
   "cell_type": "code",
   "execution_count": 1,
   "id": "3ea104c0",
   "metadata": {},
   "outputs": [
    {
     "data": {
      "text/html": [
       "\n",
       "        <div>\n",
       "            <p><b>SparkContext</b></p>\n",
       "\n",
       "            <p><a href=\"http://10.0.2.15:4040\">Spark UI</a></p>\n",
       "\n",
       "            <dl>\n",
       "              <dt>Version</dt>\n",
       "                <dd><code>v2.4.8</code></dd>\n",
       "              <dt>Master</dt>\n",
       "                <dd><code>local[*]</code></dd>\n",
       "              <dt>AppName</dt>\n",
       "                <dd><code>PySparkShell</code></dd>\n",
       "            </dl>\n",
       "        </div>\n",
       "        "
      ],
      "text/plain": [
       "<SparkContext master=local[*] appName=PySparkShell>"
      ]
     },
     "execution_count": 1,
     "metadata": {},
     "output_type": "execute_result"
    }
   ],
   "source": [
    "sc"
   ]
  },
  {
   "cell_type": "code",
   "execution_count": 2,
   "id": "16c93ea5",
   "metadata": {},
   "outputs": [
    {
     "data": {
      "text/html": [
       "\n",
       "            <div>\n",
       "                <p><b>SparkSession - hive</b></p>\n",
       "                \n",
       "        <div>\n",
       "            <p><b>SparkContext</b></p>\n",
       "\n",
       "            <p><a href=\"http://10.0.2.15:4040\">Spark UI</a></p>\n",
       "\n",
       "            <dl>\n",
       "              <dt>Version</dt>\n",
       "                <dd><code>v2.4.8</code></dd>\n",
       "              <dt>Master</dt>\n",
       "                <dd><code>local[*]</code></dd>\n",
       "              <dt>AppName</dt>\n",
       "                <dd><code>PySparkShell</code></dd>\n",
       "            </dl>\n",
       "        </div>\n",
       "        \n",
       "            </div>\n",
       "        "
      ],
      "text/plain": [
       "<pyspark.sql.session.SparkSession at 0x7fd8698b02b0>"
      ]
     },
     "execution_count": 2,
     "metadata": {},
     "output_type": "execute_result"
    }
   ],
   "source": [
    "spark"
   ]
  },
  {
   "cell_type": "markdown",
   "id": "ffbda106",
   "metadata": {},
   "source": [
    "#### 1. Read the Dataset"
   ]
  },
  {
   "cell_type": "code",
   "execution_count": 6,
   "id": "06a2d915",
   "metadata": {},
   "outputs": [
    {
     "name": "stdout",
     "output_type": "stream",
     "text": [
      "+----------+------+-------------+-------+----------+------+------------+----------------+---------------+--------------+------------+----------------+-----------+-----------+---------------+--------------+----------------+----------------+--------------+------------+-----+\n",
      "|customerID|gender|SeniorCitizen|Partner|Dependents|tenure|PhoneService|   MultipleLines|InternetService|OnlineSecurity|OnlineBackup|DeviceProtection|TechSupport|StreamingTV|StreamingMovies|      Contract|PaperlessBilling|   PaymentMethod|MonthlyCharges|TotalCharges|Churn|\n",
      "+----------+------+-------------+-------+----------+------+------------+----------------+---------------+--------------+------------+----------------+-----------+-----------+---------------+--------------+----------------+----------------+--------------+------------+-----+\n",
      "|7590-VHVEG|Female|            0|    Yes|        No|     1|          No|No phone service|            DSL|            No|         Yes|              No|         No|         No|             No|Month-to-month|             Yes|Electronic check|         29.85|       29.85|   No|\n",
      "|5575-GNVDE|  Male|            0|     No|        No|    34|         Yes|              No|            DSL|           Yes|          No|             Yes|         No|         No|             No|      One year|              No|    Mailed check|         56.95|      1889.5|   No|\n",
      "|3668-QPYBK|  Male|            0|     No|        No|     2|         Yes|              No|            DSL|           Yes|         Yes|              No|         No|         No|             No|Month-to-month|             Yes|    Mailed check|         53.85|      108.15|  Yes|\n",
      "+----------+------+-------------+-------+----------+------+------------+----------------+---------------+--------------+------------+----------------+-----------+-----------+---------------+--------------+----------------+----------------+--------------+------------+-----+\n",
      "only showing top 3 rows\n",
      "\n"
     ]
    }
   ],
   "source": [
    "churn_data = spark.read.csv('file:///home/hadoop/Downloads/Telco_Customer_Churn.csv',header=True,inferSchema=True)\n",
    "churn_data.show(3)"
   ]
  },
  {
   "cell_type": "markdown",
   "id": "a50f3181",
   "metadata": {},
   "source": [
    "#### 2. Data Exploration\n",
    "        a) How many customers are in dataset?"
   ]
  },
  {
   "cell_type": "code",
   "execution_count": 7,
   "id": "eb4fdbf5",
   "metadata": {},
   "outputs": [
    {
     "data": {
      "text/plain": [
       "7043"
      ]
     },
     "execution_count": 7,
     "metadata": {},
     "output_type": "execute_result"
    }
   ],
   "source": [
    "churn_data.count()"
   ]
  },
  {
   "cell_type": "code",
   "execution_count": null,
   "id": "1b4f6bc8",
   "metadata": {},
   "outputs": [],
   "source": [
    "len(churn_data.columns)"
   ]
  },
  {
   "cell_type": "code",
   "execution_count": 9,
   "id": "51d5dd1c",
   "metadata": {},
   "outputs": [
    {
     "data": {
      "text/plain": [
       "['customerID',\n",
       " 'gender',\n",
       " 'SeniorCitizen',\n",
       " 'Partner',\n",
       " 'Dependents',\n",
       " 'tenure',\n",
       " 'PhoneService',\n",
       " 'MultipleLines',\n",
       " 'InternetService',\n",
       " 'OnlineSecurity',\n",
       " 'OnlineBackup',\n",
       " 'DeviceProtection',\n",
       " 'TechSupport',\n",
       " 'StreamingTV',\n",
       " 'StreamingMovies',\n",
       " 'Contract',\n",
       " 'PaperlessBilling',\n",
       " 'PaymentMethod',\n",
       " 'MonthlyCharges',\n",
       " 'TotalCharges',\n",
       " 'Churn']"
      ]
     },
     "execution_count": 9,
     "metadata": {},
     "output_type": "execute_result"
    }
   ],
   "source": [
    "churn_data.columns"
   ]
  },
  {
   "cell_type": "markdown",
   "id": "909641e9",
   "metadata": {},
   "source": [
    "        b) What is the distribution of gender among customers?"
   ]
  },
  {
   "cell_type": "code",
   "execution_count": 10,
   "id": "85992dd5",
   "metadata": {
    "collapsed": true
   },
   "outputs": [
    {
     "name": "stdout",
     "output_type": "stream",
     "text": [
      "root\n",
      " |-- customerID: string (nullable = true)\n",
      " |-- gender: string (nullable = true)\n",
      " |-- SeniorCitizen: integer (nullable = true)\n",
      " |-- Partner: string (nullable = true)\n",
      " |-- Dependents: string (nullable = true)\n",
      " |-- tenure: integer (nullable = true)\n",
      " |-- PhoneService: string (nullable = true)\n",
      " |-- MultipleLines: string (nullable = true)\n",
      " |-- InternetService: string (nullable = true)\n",
      " |-- OnlineSecurity: string (nullable = true)\n",
      " |-- OnlineBackup: string (nullable = true)\n",
      " |-- DeviceProtection: string (nullable = true)\n",
      " |-- TechSupport: string (nullable = true)\n",
      " |-- StreamingTV: string (nullable = true)\n",
      " |-- StreamingMovies: string (nullable = true)\n",
      " |-- Contract: string (nullable = true)\n",
      " |-- PaperlessBilling: string (nullable = true)\n",
      " |-- PaymentMethod: string (nullable = true)\n",
      " |-- MonthlyCharges: double (nullable = true)\n",
      " |-- TotalCharges: string (nullable = true)\n",
      " |-- Churn: string (nullable = true)\n",
      "\n"
     ]
    }
   ],
   "source": [
    "churn_data.printSchema()"
   ]
  },
  {
   "cell_type": "code",
   "execution_count": 13,
   "id": "740ba175",
   "metadata": {},
   "outputs": [
    {
     "name": "stdout",
     "output_type": "stream",
     "text": [
      "+------+-----+\n",
      "|gender|count|\n",
      "+------+-----+\n",
      "|Female| 3488|\n",
      "|  Male| 3555|\n",
      "+------+-----+\n",
      "\n"
     ]
    }
   ],
   "source": [
    "churn_data.groupBy('gender').count().show()"
   ]
  },
  {
   "cell_type": "markdown",
   "id": "fd586807",
   "metadata": {},
   "source": [
    "        c) What is the distribution of contract types among customers?"
   ]
  },
  {
   "cell_type": "code",
   "execution_count": 15,
   "id": "5ae47e3e",
   "metadata": {},
   "outputs": [
    {
     "name": "stdout",
     "output_type": "stream",
     "text": [
      "+--------------+-----+\n",
      "|      contract|count|\n",
      "+--------------+-----+\n",
      "|Month-to-month| 3875|\n",
      "|      One year| 1473|\n",
      "|      Two year| 1695|\n",
      "+--------------+-----+\n",
      "\n"
     ]
    }
   ],
   "source": [
    "churn_data.groupBy('contract').count().show()"
   ]
  },
  {
   "cell_type": "markdown",
   "id": "7241b0ae",
   "metadata": {},
   "source": [
    "        d) What is the percentage of Customers who churned?"
   ]
  },
  {
   "cell_type": "code",
   "execution_count": 19,
   "id": "d5179602",
   "metadata": {},
   "outputs": [
    {
     "data": {
      "text/plain": [
       "26.536987079369588"
      ]
     },
     "execution_count": 19,
     "metadata": {},
     "output_type": "execute_result"
    }
   ],
   "source": [
    "churn_data.select(['Churn']).where(\"Churn = 'Yes'\").count() / churn_data.count() * 100"
   ]
  },
  {
   "cell_type": "markdown",
   "id": "79ea4c1c",
   "metadata": {},
   "source": [
    "#### 3. Data Preprocessing\n",
    "        * Check for missing values and Handle missing data."
   ]
  },
  {
   "cell_type": "code",
   "execution_count": 20,
   "id": "1b136739",
   "metadata": {},
   "outputs": [],
   "source": [
    "from pyspark.sql.functions import *\n",
    "from pyspark.sql.types import *"
   ]
  },
  {
   "cell_type": "code",
   "execution_count": 25,
   "id": "51486e9b",
   "metadata": {},
   "outputs": [
    {
     "name": "stdout",
     "output_type": "stream",
     "text": [
      "+----------+------+-------------+-------+----------+------+------------+-------------+---------------+--------------+------------+----------------+-----------+-----------+---------------+--------+----------------+-------------+--------------+------------+-----+\n",
      "|customerID|gender|SeniorCitizen|Partner|Dependents|tenure|PhoneService|MultipleLines|InternetService|OnlineSecurity|OnlineBackup|DeviceProtection|TechSupport|StreamingTV|StreamingMovies|Contract|PaperlessBilling|PaymentMethod|MonthlyCharges|TotalCharges|Churn|\n",
      "+----------+------+-------------+-------+----------+------+------------+-------------+---------------+--------------+------------+----------------+-----------+-----------+---------------+--------+----------------+-------------+--------------+------------+-----+\n",
      "|         0|     0|            0|      0|         0|     0|           0|            0|              0|             0|           0|               0|          0|          0|              0|       0|               0|            0|             0|           0|    0|\n",
      "+----------+------+-------------+-------+----------+------+------------+-------------+---------------+--------------+------------+----------------+-----------+-----------+---------------+--------+----------------+-------------+--------------+------------+-----+\n",
      "\n"
     ]
    }
   ],
   "source": [
    "churn_data.select([count(when(isnull(column),column)).alias(column) for column in churn_data.columns]).show()"
   ]
  },
  {
   "cell_type": "code",
   "execution_count": 101,
   "id": "269728de",
   "metadata": {},
   "outputs": [],
   "source": [
    "churn_data = churn_data.withColumn('TotalCharges', when(col('TotalCharges') == \" \", None).otherwise(col('TotalCharges')))"
   ]
  },
  {
   "cell_type": "code",
   "execution_count": 102,
   "id": "a89dbcd7",
   "metadata": {},
   "outputs": [
    {
     "name": "stdout",
     "output_type": "stream",
     "text": [
      "+----------+------+-------------+-------+----------+------+------------+-------------+---------------+--------------+------------+----------------+-----------+-----------+---------------+--------+----------------+-------------+--------------+------------+-----+\n",
      "|customerID|gender|SeniorCitizen|Partner|Dependents|tenure|PhoneService|MultipleLines|InternetService|OnlineSecurity|OnlineBackup|DeviceProtection|TechSupport|StreamingTV|StreamingMovies|Contract|PaperlessBilling|PaymentMethod|MonthlyCharges|TotalCharges|Churn|\n",
      "+----------+------+-------------+-------+----------+------+------------+-------------+---------------+--------------+------------+----------------+-----------+-----------+---------------+--------+----------------+-------------+--------------+------------+-----+\n",
      "|         0|     0|            0|      0|         0|     0|           0|            0|              0|             0|           0|               0|          0|          0|              0|       0|               0|            0|             0|          11|    0|\n",
      "+----------+------+-------------+-------+----------+------+------------+-------------+---------------+--------------+------------+----------------+-----------+-----------+---------------+--------+----------------+-------------+--------------+------------+-----+\n",
      "\n"
     ]
    }
   ],
   "source": [
    "churn_data.select([count(when(isnull(column),column)).alias(column) for column in churn_data.columns]).show()"
   ]
  },
  {
   "cell_type": "code",
   "execution_count": 103,
   "id": "c46555c3",
   "metadata": {},
   "outputs": [],
   "source": [
    "churn_df = churn_data.na.drop()"
   ]
  },
  {
   "cell_type": "code",
   "execution_count": 104,
   "id": "76d6724e",
   "metadata": {},
   "outputs": [],
   "source": [
    "churn_df = churn_df.withColumn('TotalCharges',col('TotalCharges').cast(FloatType()))\n",
    "churn_df = churn_df.drop(col('cutomerID'))"
   ]
  },
  {
   "cell_type": "code",
   "execution_count": 105,
   "id": "b7672762",
   "metadata": {},
   "outputs": [
    {
     "name": "stdout",
     "output_type": "stream",
     "text": [
      "root\n",
      " |-- customerID: string (nullable = true)\n",
      " |-- gender: string (nullable = true)\n",
      " |-- SeniorCitizen: integer (nullable = true)\n",
      " |-- Partner: string (nullable = true)\n",
      " |-- Dependents: string (nullable = true)\n",
      " |-- tenure: integer (nullable = true)\n",
      " |-- PhoneService: string (nullable = true)\n",
      " |-- MultipleLines: string (nullable = true)\n",
      " |-- InternetService: string (nullable = true)\n",
      " |-- OnlineSecurity: string (nullable = true)\n",
      " |-- OnlineBackup: string (nullable = true)\n",
      " |-- DeviceProtection: string (nullable = true)\n",
      " |-- TechSupport: string (nullable = true)\n",
      " |-- StreamingTV: string (nullable = true)\n",
      " |-- StreamingMovies: string (nullable = true)\n",
      " |-- Contract: string (nullable = true)\n",
      " |-- PaperlessBilling: string (nullable = true)\n",
      " |-- PaymentMethod: string (nullable = true)\n",
      " |-- MonthlyCharges: double (nullable = true)\n",
      " |-- TotalCharges: float (nullable = true)\n",
      " |-- Churn: string (nullable = true)\n",
      "\n"
     ]
    }
   ],
   "source": [
    "churn_df.printSchema()"
   ]
  },
  {
   "cell_type": "markdown",
   "id": "ce953f79",
   "metadata": {},
   "source": [
    "#### 4. Import ML Library (mllib)\n",
    "        f) Convert catagorical variables into numerical formats using one-hot encoding or label encoding."
   ]
  },
  {
   "cell_type": "code",
   "execution_count": 106,
   "id": "4a986ad1",
   "metadata": {},
   "outputs": [],
   "source": [
    "from pyspark.ml.feature import StringIndexer, OneHotEncoderEstimator, VectorAssembler\n",
    "from pyspark.ml import Pipeline"
   ]
  },
  {
   "cell_type": "code",
   "execution_count": 107,
   "id": "aa5c8ca8",
   "metadata": {},
   "outputs": [],
   "source": [
    "categorical_cols = [field.name for field in churn_df.schema.fields if isinstance(field.dataType, StringType)]"
   ]
  },
  {
   "cell_type": "code",
   "execution_count": 108,
   "id": "b8007bd9",
   "metadata": {},
   "outputs": [],
   "source": [
    "# category = category[1:-1]"
   ]
  },
  {
   "cell_type": "code",
   "execution_count": 109,
   "id": "45adf0bf",
   "metadata": {},
   "outputs": [],
   "source": [
    "stages = []\n",
    "for cat_cols in categorical_cols[:-1]:\n",
    "    stringindexer = StringIndexer(inputCol=cat_cols, outputCol=cat_cols + 'Index')\n",
    "    onehotencoder = OneHotEncoderEstimator(inputCols = [stringindexer.getOutputCol()],\n",
    "                                        outputCols = [cat_cols + \"classVec\"])\n",
    "    stages += [stringindexer, onehotencoder]"
   ]
  },
  {
   "cell_type": "code",
   "execution_count": 110,
   "id": "7fe69d3d",
   "metadata": {},
   "outputs": [],
   "source": [
    "numeric_cols = [field.name for field in churn_df.schema.fields if not isinstance(field.dataType, StringType)]"
   ]
  },
  {
   "cell_type": "code",
   "execution_count": 111,
   "id": "9f0da831",
   "metadata": {},
   "outputs": [],
   "source": [
    "assemblerInputs = [c + 'classVec' for c in categorical_cols[:-1]]  + numeric_cols\n",
    "assembler = VectorAssembler(inputCols=assemblerInputs, outputCol='features')\n",
    "stages += [assembler]"
   ]
  },
  {
   "cell_type": "code",
   "execution_count": 112,
   "id": "00bf0e3a",
   "metadata": {},
   "outputs": [],
   "source": [
    "label_stringIdx = StringIndexer(inputCol='Churn', outputCol='label')"
   ]
  },
  {
   "cell_type": "code",
   "execution_count": 113,
   "id": "3f582d2f",
   "metadata": {},
   "outputs": [],
   "source": [
    "stages += [label_stringIdx]"
   ]
  },
  {
   "cell_type": "code",
   "execution_count": 114,
   "id": "addae735",
   "metadata": {},
   "outputs": [],
   "source": [
    "pipeline = Pipeline(stages = stages)"
   ]
  },
  {
   "cell_type": "code",
   "execution_count": 115,
   "id": "3a079221",
   "metadata": {},
   "outputs": [],
   "source": [
    "preprocessing = pipeline.fit(churn_df)"
   ]
  },
  {
   "cell_type": "code",
   "execution_count": 116,
   "id": "671ec650",
   "metadata": {},
   "outputs": [],
   "source": [
    "churn_dataFrame = preprocessing.transform(churn_df)"
   ]
  },
  {
   "cell_type": "code",
   "execution_count": null,
   "id": "e6f720fc",
   "metadata": {},
   "outputs": [],
   "source": [
    "churn_dataFrame.select(['Contract','ContractIndex','ContractclassVec']).show()"
   ]
  },
  {
   "cell_type": "code",
   "execution_count": 118,
   "id": "f1080f14",
   "metadata": {},
   "outputs": [
    {
     "name": "stdout",
     "output_type": "stream",
     "text": [
      "+------------------------------------------------------------------------------------------------------------------------------------------------------------------------------------------------------+-----+\n",
      "|features                                                                                                                                                                                              |label|\n",
      "+------------------------------------------------------------------------------------------------------------------------------------------------------------------------------------------------------+-----+\n",
      "|(7061,[1950,7033,7038,7039,7042,7043,7045,7047,7049,7051,7053,7054,7058,7059,7060],[1.0,1.0,1.0,1.0,1.0,1.0,1.0,1.0,1.0,1.0,1.0,1.0,1.0,29.85,29.850000381469727])                                    |0.0  |\n",
      "|(7061,[776,7031,7032,7033,7034,7035,7038,7040,7041,7044,7045,7047,7049,7055,7058,7059,7060],[1.0,1.0,1.0,1.0,1.0,1.0,1.0,1.0,1.0,1.0,1.0,1.0,1.0,1.0,34.0,56.95,1889.5])                              |0.0  |\n",
      "|(7061,[3799,7031,7032,7033,7034,7035,7038,7040,7042,7043,7045,7047,7049,7051,7053,7055,7058,7059,7060],[1.0,1.0,1.0,1.0,1.0,1.0,1.0,1.0,1.0,1.0,1.0,1.0,1.0,1.0,1.0,1.0,2.0,53.85,108.1500015258789]) |1.0  |\n",
      "|(7061,[4732,7031,7032,7033,7038,7040,7041,7044,7046,7047,7049,7056,7058,7059,7060],[1.0,1.0,1.0,1.0,1.0,1.0,1.0,1.0,1.0,1.0,1.0,1.0,45.0,42.3,1840.75])                                               |0.0  |\n",
      "|(7061,[2476,7032,7033,7034,7035,7037,7039,7041,7043,7045,7047,7049,7051,7053,7054,7058,7059,7060],[1.0,1.0,1.0,1.0,1.0,1.0,1.0,1.0,1.0,1.0,1.0,1.0,1.0,1.0,1.0,2.0,70.7,151.64999389648438])          |1.0  |\n",
      "|(7061,[1704,7032,7033,7034,7036,7037,7039,7041,7044,7045,7048,7050,7051,7053,7054,7058,7059,7060],[1.0,1.0,1.0,1.0,1.0,1.0,1.0,1.0,1.0,1.0,1.0,1.0,1.0,1.0,1.0,8.0,99.65,820.5])                      |1.0  |\n",
      "|(7061,[2560,7031,7032,7034,7036,7037,7039,7042,7043,7045,7048,7049,7051,7053,7058,7059,7060],[1.0,1.0,1.0,1.0,1.0,1.0,1.0,1.0,1.0,1.0,1.0,1.0,1.0,1.0,22.0,89.1,1949.4000244140625])                  |0.0  |\n",
      "|(7061,[3462,7032,7033,7038,7040,7041,7043,7045,7047,7049,7051,7055,7058,7059,7060],[1.0,1.0,1.0,1.0,1.0,1.0,1.0,1.0,1.0,1.0,1.0,1.0,10.0,29.75,301.8999938964844])                                    |0.0  |\n",
      "|(7061,[284,7033,7034,7036,7037,7039,7041,7044,7046,7048,7050,7051,7053,7054,7058,7059,7060],[1.0,1.0,1.0,1.0,1.0,1.0,1.0,1.0,1.0,1.0,1.0,1.0,1.0,1.0,28.0,104.8,3046.050048828125])                   |1.0  |\n",
      "|(7061,[6591,7031,7032,7034,7035,7038,7040,7042,7043,7045,7047,7049,7056,7058,7059,7060],[1.0,1.0,1.0,1.0,1.0,1.0,1.0,1.0,1.0,1.0,1.0,1.0,1.0,62.0,56.15,3487.949951171875])                           |0.0  |\n",
      "|(7061,[2176,7031,7034,7035,7038,7040,7041,7043,7045,7047,7049,7051,7053,7055,7058,7059,7060],[1.0,1.0,1.0,1.0,1.0,1.0,1.0,1.0,1.0,1.0,1.0,1.0,1.0,1.0,13.0,49.95,587.4500122070312])                  |0.0  |\n",
      "|(7061,[2167,7031,7032,7033,7034,7035,7052,7058,7059,7060],[1.0,1.0,1.0,1.0,1.0,1.0,1.0,16.0,18.95,326.79998779296875])                                                                                |0.0  |\n",
      "|(7061,[1022,7031,7033,7034,7036,7037,7039,7041,7044,7045,7048,7050,7058,7059,7060],[1.0,1.0,1.0,1.0,1.0,1.0,1.0,1.0,1.0,1.0,1.0,1.0,58.0,100.35,5681.10009765625])                                    |0.0  |\n",
      "|(7061,[3596,7031,7032,7033,7034,7036,7037,7039,7042,7044,7045,7048,7050,7051,7053,7056,7058,7059,7060],[1.0,1.0,1.0,1.0,1.0,1.0,1.0,1.0,1.0,1.0,1.0,1.0,1.0,1.0,1.0,1.0,49.0,103.7,5036.2998046875])  |1.0  |\n",
      "|(7061,[5335,7031,7032,7033,7034,7035,7037,7040,7041,7044,7046,7048,7050,7051,7053,7054,7058,7059,7060],[1.0,1.0,1.0,1.0,1.0,1.0,1.0,1.0,1.0,1.0,1.0,1.0,1.0,1.0,1.0,1.0,25.0,105.5,2686.050048828125])|0.0  |\n",
      "|(7061,[6451,7034,7036,7037,7040,7042,7044,7046,7048,7050,7052,7058,7059,7060],[1.0,1.0,1.0,1.0,1.0,1.0,1.0,1.0,1.0,1.0,1.0,69.0,113.25,7895.14990234375])                                             |0.0  |\n",
      "|(7061,[6265,7032,7033,7034,7035,7055,7058,7059,7060],[1.0,1.0,1.0,1.0,1.0,1.0,52.0,20.65,1022.9500122070312])                                                                                         |0.0  |\n",
      "|(7061,[2645,7031,7032,7034,7036,7037,7040,7041,7044,7045,7048,7050,7052,7056,7058,7059,7060],[1.0,1.0,1.0,1.0,1.0,1.0,1.0,1.0,1.0,1.0,1.0,1.0,1.0,1.0,71.0,106.7,7382.25])                            |0.0  |\n",
      "|(7061,[4159,7034,7035,7038,7039,7041,7044,7046,7047,7049,7051,7058,7059,7060],[1.0,1.0,1.0,1.0,1.0,1.0,1.0,1.0,1.0,1.0,1.0,10.0,55.2,528.3499755859375])                                              |1.0  |\n",
      "|(7061,[1376,7032,7033,7034,7035,7037,7039,7042,7044,7045,7047,7050,7051,7053,7054,7058,7059,7060],[1.0,1.0,1.0,1.0,1.0,1.0,1.0,1.0,1.0,1.0,1.0,1.0,1.0,1.0,1.0,21.0,90.05,1862.9000244140625])        |0.0  |\n",
      "+------------------------------------------------------------------------------------------------------------------------------------------------------------------------------------------------------+-----+\n",
      "only showing top 20 rows\n",
      "\n"
     ]
    }
   ],
   "source": [
    "churn_df1 = churn_dataFrame.select(['features','label'])\n",
    "churn_df1.show(truncate=False)"
   ]
  },
  {
   "cell_type": "markdown",
   "id": "625cbc6d",
   "metadata": {},
   "source": [
    "### Split dataset into Train and Test"
   ]
  },
  {
   "cell_type": "code",
   "execution_count": 173,
   "id": "b504f024",
   "metadata": {},
   "outputs": [],
   "source": [
    "train, test = churn_df1.randomSplit([0.8, 0.2], seed = 4)"
   ]
  },
  {
   "cell_type": "code",
   "execution_count": 174,
   "id": "fc73682e",
   "metadata": {},
   "outputs": [
    {
     "data": {
      "text/plain": [
       "DataFrame[features: vector, label: double]"
      ]
     },
     "execution_count": 174,
     "metadata": {},
     "output_type": "execute_result"
    }
   ],
   "source": [
    "train.select(['features','label'])"
   ]
  },
  {
   "cell_type": "markdown",
   "id": "c6d96401",
   "metadata": {},
   "source": [
    "#### Build theDecision Tree ML Model"
   ]
  },
  {
   "cell_type": "code",
   "execution_count": 175,
   "id": "372417fc",
   "metadata": {},
   "outputs": [],
   "source": [
    "from pyspark.ml.classification import DecisionTreeClassifier, RandomForestClassifier\n",
    "tree = DecisionTreeClassifier(featuresCol='features', labelCol='label')\n",
    "decision_model = tree.fit(train)"
   ]
  },
  {
   "cell_type": "markdown",
   "id": "5ae5d555",
   "metadata": {},
   "source": [
    "#### Evalute the Model"
   ]
  },
  {
   "cell_type": "code",
   "execution_count": 176,
   "id": "eb163cb2",
   "metadata": {},
   "outputs": [],
   "source": [
    "predictions = decision_model.transform(test)"
   ]
  },
  {
   "cell_type": "code",
   "execution_count": 177,
   "id": "fc2597e0",
   "metadata": {},
   "outputs": [
    {
     "name": "stdout",
     "output_type": "stream",
     "text": [
      "+-----+-----------------------------------------+----------+\n",
      "|label|probability                              |prediction|\n",
      "+-----+-----------------------------------------+----------+\n",
      "|0.0  |[0.9773507206588882,0.022649279341111873]|0.0       |\n",
      "|0.0  |[0.9773507206588882,0.022649279341111873]|0.0       |\n",
      "|0.0  |[0.6788321167883211,0.32116788321167883] |0.0       |\n",
      "|0.0  |[0.9079601990049752,0.09203980099502487] |0.0       |\n",
      "|0.0  |[0.8532423208191127,0.14675767918088736] |0.0       |\n",
      "|0.0  |[0.9079601990049752,0.09203980099502487] |0.0       |\n",
      "|0.0  |[0.8532423208191127,0.14675767918088736] |0.0       |\n",
      "|0.0  |[0.707641196013289,0.292358803986711]    |0.0       |\n",
      "|0.0  |[0.35590551181102364,0.6440944881889764] |1.0       |\n",
      "|0.0  |[0.9079601990049752,0.09203980099502487] |0.0       |\n",
      "|1.0  |[0.9773507206588882,0.022649279341111873]|0.0       |\n",
      "|0.0  |[0.8532423208191127,0.14675767918088736] |0.0       |\n",
      "|0.0  |[0.9773507206588882,0.022649279341111873]|0.0       |\n",
      "|0.0  |[0.759581881533101,0.24041811846689895]  |0.0       |\n",
      "|1.0  |[0.35590551181102364,0.6440944881889764] |1.0       |\n",
      "|0.0  |[0.4807692307692308,0.5192307692307693]  |1.0       |\n",
      "|1.0  |[0.4807692307692308,0.5192307692307693]  |1.0       |\n",
      "|1.0  |[0.35590551181102364,0.6440944881889764] |1.0       |\n",
      "|1.0  |[0.7391304347826086,0.2608695652173913]  |0.0       |\n",
      "|1.0  |[0.12849162011173185,0.8715083798882681] |1.0       |\n",
      "+-----+-----------------------------------------+----------+\n",
      "only showing top 20 rows\n",
      "\n"
     ]
    }
   ],
   "source": [
    "predictions.select(['label','probability','prediction']).show(truncate=False)"
   ]
  },
  {
   "cell_type": "code",
   "execution_count": 179,
   "id": "1ba4fe9a",
   "metadata": {},
   "outputs": [
    {
     "data": {
      "text/plain": [
       "0.7988942639944713"
      ]
     },
     "execution_count": 179,
     "metadata": {},
     "output_type": "execute_result"
    }
   ],
   "source": [
    "from pyspark.ml.evaluation import MulticlassClassificationEvaluator\n",
    "evaluator = MulticlassClassificationEvaluator(labelCol=\"label\", predictionCol=\"prediction\", metricName=\"accuracy\")\n",
    "\n",
    "accuracy = evaluator.evaluate(predictions)\n",
    "accuracy"
   ]
  },
  {
   "cell_type": "markdown",
   "id": "4181ab1a",
   "metadata": {},
   "source": [
    "#### Random Forest Classifier"
   ]
  },
  {
   "cell_type": "code",
   "execution_count": 180,
   "id": "0b4574a1",
   "metadata": {},
   "outputs": [],
   "source": [
    "from pyspark.ml.classification import RandomForestClassifier\n",
    "randomForest = RandomForestClassifier(featuresCol='features', labelCol='label')\n",
    "rf_model = randomForest.fit(train)"
   ]
  },
  {
   "cell_type": "code",
   "execution_count": 181,
   "id": "af3c49b6",
   "metadata": {},
   "outputs": [],
   "source": [
    "predictions = rf_model.transform(test)"
   ]
  },
  {
   "cell_type": "code",
   "execution_count": 182,
   "id": "64af0877",
   "metadata": {},
   "outputs": [
    {
     "data": {
      "text/plain": [
       "0.7456807187284036"
      ]
     },
     "execution_count": 182,
     "metadata": {},
     "output_type": "execute_result"
    }
   ],
   "source": [
    "from pyspark.ml.evaluation import MulticlassClassificationEvaluator\n",
    "evaluator = MulticlassClassificationEvaluator(labelCol=\"label\", predictionCol=\"prediction\", metricName=\"accuracy\")\n",
    "\n",
    "accuracy = evaluator.evaluate(predictions)\n",
    "accuracy"
   ]
  },
  {
   "cell_type": "markdown",
   "id": "36c5697e",
   "metadata": {},
   "source": [
    "#### Logistic Regression"
   ]
  },
  {
   "cell_type": "code",
   "execution_count": 183,
   "id": "efb9e2a9",
   "metadata": {},
   "outputs": [],
   "source": [
    "from pyspark.ml.classification import LogisticRegression\n",
    "logistic = LogisticRegression(featuresCol='features', labelCol='label')\n",
    "log_model = logistic.fit(train)"
   ]
  },
  {
   "cell_type": "code",
   "execution_count": 184,
   "id": "2d257106",
   "metadata": {},
   "outputs": [],
   "source": [
    "predictions = log_model.transform(test)"
   ]
  },
  {
   "cell_type": "code",
   "execution_count": 185,
   "id": "39fd51c5",
   "metadata": {},
   "outputs": [
    {
     "data": {
      "text/plain": [
       "0.8182446440912232"
      ]
     },
     "execution_count": 185,
     "metadata": {},
     "output_type": "execute_result"
    }
   ],
   "source": [
    "from pyspark.ml.evaluation import MulticlassClassificationEvaluator\n",
    "evaluator = MulticlassClassificationEvaluator(labelCol=\"label\", predictionCol=\"prediction\", metricName=\"accuracy\")\n",
    "\n",
    "accuracy = evaluator.evaluate(predictions)\n",
    "accuracy"
   ]
  },
  {
   "cell_type": "code",
   "execution_count": null,
   "id": "3b2e4999",
   "metadata": {},
   "outputs": [],
   "source": []
  }
 ],
 "metadata": {
  "kernelspec": {
   "display_name": "Python 3",
   "language": "python",
   "name": "python3"
  },
  "language_info": {
   "codemirror_mode": {
    "name": "ipython",
    "version": 3
   },
   "file_extension": ".py",
   "mimetype": "text/x-python",
   "name": "python",
   "nbconvert_exporter": "python",
   "pygments_lexer": "ipython3",
   "version": "3.6.9"
  }
 },
 "nbformat": 4,
 "nbformat_minor": 5
}
